{
 "cells": [
  {
   "cell_type": "code",
   "execution_count": 1,
   "metadata": {},
   "outputs": [],
   "source": [
    "import numpy as np\n",
    "import pandas as pd"
   ]
  },
  {
   "cell_type": "code",
   "execution_count": 6,
   "metadata": {},
   "outputs": [],
   "source": [
    "dates = pd.date_range('20130101', periods=6)\n",
    "df = pd.DataFrame(np.random.randn(6, 4), index=dates, columns=list('ABCD'))"
   ]
  },
  {
   "cell_type": "code",
   "execution_count": 7,
   "metadata": {},
   "outputs": [
    {
     "data": {
      "text/html": [
       "<div>\n",
       "<style scoped>\n",
       "    .dataframe tbody tr th:only-of-type {\n",
       "        vertical-align: middle;\n",
       "    }\n",
       "\n",
       "    .dataframe tbody tr th {\n",
       "        vertical-align: top;\n",
       "    }\n",
       "\n",
       "    .dataframe thead th {\n",
       "        text-align: right;\n",
       "    }\n",
       "</style>\n",
       "<table border=\"1\" class=\"dataframe\">\n",
       "  <thead>\n",
       "    <tr style=\"text-align: right;\">\n",
       "      <th></th>\n",
       "      <th>A</th>\n",
       "      <th>B</th>\n",
       "      <th>C</th>\n",
       "      <th>D</th>\n",
       "    </tr>\n",
       "  </thead>\n",
       "  <tbody>\n",
       "    <tr>\n",
       "      <th>2013-01-01</th>\n",
       "      <td>-0.907771</td>\n",
       "      <td>0.055728</td>\n",
       "      <td>0.462504</td>\n",
       "      <td>-1.589499</td>\n",
       "    </tr>\n",
       "    <tr>\n",
       "      <th>2013-01-02</th>\n",
       "      <td>0.898543</td>\n",
       "      <td>-0.110202</td>\n",
       "      <td>-1.478317</td>\n",
       "      <td>-0.824731</td>\n",
       "    </tr>\n",
       "    <tr>\n",
       "      <th>2013-01-03</th>\n",
       "      <td>1.415217</td>\n",
       "      <td>-0.028395</td>\n",
       "      <td>0.335062</td>\n",
       "      <td>0.439665</td>\n",
       "    </tr>\n",
       "    <tr>\n",
       "      <th>2013-01-04</th>\n",
       "      <td>-0.771471</td>\n",
       "      <td>-0.213046</td>\n",
       "      <td>-1.210456</td>\n",
       "      <td>-0.780223</td>\n",
       "    </tr>\n",
       "    <tr>\n",
       "      <th>2013-01-05</th>\n",
       "      <td>1.549928</td>\n",
       "      <td>-0.117930</td>\n",
       "      <td>-0.271697</td>\n",
       "      <td>-0.064717</td>\n",
       "    </tr>\n",
       "    <tr>\n",
       "      <th>2013-01-06</th>\n",
       "      <td>-0.345217</td>\n",
       "      <td>0.828445</td>\n",
       "      <td>0.032962</td>\n",
       "      <td>-0.585802</td>\n",
       "    </tr>\n",
       "  </tbody>\n",
       "</table>\n",
       "</div>"
      ],
      "text/plain": [
       "                   A         B         C         D\n",
       "2013-01-01 -0.907771  0.055728  0.462504 -1.589499\n",
       "2013-01-02  0.898543 -0.110202 -1.478317 -0.824731\n",
       "2013-01-03  1.415217 -0.028395  0.335062  0.439665\n",
       "2013-01-04 -0.771471 -0.213046 -1.210456 -0.780223\n",
       "2013-01-05  1.549928 -0.117930 -0.271697 -0.064717\n",
       "2013-01-06 -0.345217  0.828445  0.032962 -0.585802"
      ]
     },
     "execution_count": 7,
     "metadata": {},
     "output_type": "execute_result"
    }
   ],
   "source": [
    "df"
   ]
  },
  {
   "cell_type": "code",
   "execution_count": 8,
   "metadata": {},
   "outputs": [
    {
     "data": {
      "text/html": [
       "<div>\n",
       "<style scoped>\n",
       "    .dataframe tbody tr th:only-of-type {\n",
       "        vertical-align: middle;\n",
       "    }\n",
       "\n",
       "    .dataframe tbody tr th {\n",
       "        vertical-align: top;\n",
       "    }\n",
       "\n",
       "    .dataframe thead th {\n",
       "        text-align: right;\n",
       "    }\n",
       "</style>\n",
       "<table border=\"1\" class=\"dataframe\">\n",
       "  <thead>\n",
       "    <tr style=\"text-align: right;\">\n",
       "      <th></th>\n",
       "      <th>A</th>\n",
       "      <th>B</th>\n",
       "      <th>C</th>\n",
       "      <th>D</th>\n",
       "    </tr>\n",
       "  </thead>\n",
       "  <tbody>\n",
       "    <tr>\n",
       "      <th>2013-01-01</th>\n",
       "      <td>-0.907771</td>\n",
       "      <td>0.055728</td>\n",
       "      <td>0.462504</td>\n",
       "      <td>-1.589499</td>\n",
       "    </tr>\n",
       "    <tr>\n",
       "      <th>2013-01-02</th>\n",
       "      <td>0.898543</td>\n",
       "      <td>-0.110202</td>\n",
       "      <td>-1.478317</td>\n",
       "      <td>-0.824731</td>\n",
       "    </tr>\n",
       "    <tr>\n",
       "      <th>2013-01-03</th>\n",
       "      <td>1.415217</td>\n",
       "      <td>-0.028395</td>\n",
       "      <td>0.335062</td>\n",
       "      <td>0.439665</td>\n",
       "    </tr>\n",
       "    <tr>\n",
       "      <th>2013-01-04</th>\n",
       "      <td>-0.771471</td>\n",
       "      <td>-0.213046</td>\n",
       "      <td>-1.210456</td>\n",
       "      <td>-0.780223</td>\n",
       "    </tr>\n",
       "    <tr>\n",
       "      <th>2013-01-05</th>\n",
       "      <td>1.549928</td>\n",
       "      <td>-0.117930</td>\n",
       "      <td>-0.271697</td>\n",
       "      <td>-0.064717</td>\n",
       "    </tr>\n",
       "  </tbody>\n",
       "</table>\n",
       "</div>"
      ],
      "text/plain": [
       "                   A         B         C         D\n",
       "2013-01-01 -0.907771  0.055728  0.462504 -1.589499\n",
       "2013-01-02  0.898543 -0.110202 -1.478317 -0.824731\n",
       "2013-01-03  1.415217 -0.028395  0.335062  0.439665\n",
       "2013-01-04 -0.771471 -0.213046 -1.210456 -0.780223\n",
       "2013-01-05  1.549928 -0.117930 -0.271697 -0.064717"
      ]
     },
     "execution_count": 8,
     "metadata": {},
     "output_type": "execute_result"
    }
   ],
   "source": [
    "df.head()"
   ]
  },
  {
   "cell_type": "code",
   "execution_count": 9,
   "metadata": {},
   "outputs": [
    {
     "data": {
      "text/html": [
       "<div>\n",
       "<style scoped>\n",
       "    .dataframe tbody tr th:only-of-type {\n",
       "        vertical-align: middle;\n",
       "    }\n",
       "\n",
       "    .dataframe tbody tr th {\n",
       "        vertical-align: top;\n",
       "    }\n",
       "\n",
       "    .dataframe thead th {\n",
       "        text-align: right;\n",
       "    }\n",
       "</style>\n",
       "<table border=\"1\" class=\"dataframe\">\n",
       "  <thead>\n",
       "    <tr style=\"text-align: right;\">\n",
       "      <th></th>\n",
       "      <th>A</th>\n",
       "      <th>B</th>\n",
       "      <th>C</th>\n",
       "      <th>D</th>\n",
       "    </tr>\n",
       "  </thead>\n",
       "  <tbody>\n",
       "    <tr>\n",
       "      <th>2013-01-04</th>\n",
       "      <td>-0.771471</td>\n",
       "      <td>-0.213046</td>\n",
       "      <td>-1.210456</td>\n",
       "      <td>-0.780223</td>\n",
       "    </tr>\n",
       "    <tr>\n",
       "      <th>2013-01-05</th>\n",
       "      <td>1.549928</td>\n",
       "      <td>-0.117930</td>\n",
       "      <td>-0.271697</td>\n",
       "      <td>-0.064717</td>\n",
       "    </tr>\n",
       "    <tr>\n",
       "      <th>2013-01-06</th>\n",
       "      <td>-0.345217</td>\n",
       "      <td>0.828445</td>\n",
       "      <td>0.032962</td>\n",
       "      <td>-0.585802</td>\n",
       "    </tr>\n",
       "  </tbody>\n",
       "</table>\n",
       "</div>"
      ],
      "text/plain": [
       "                   A         B         C         D\n",
       "2013-01-04 -0.771471 -0.213046 -1.210456 -0.780223\n",
       "2013-01-05  1.549928 -0.117930 -0.271697 -0.064717\n",
       "2013-01-06 -0.345217  0.828445  0.032962 -0.585802"
      ]
     },
     "execution_count": 9,
     "metadata": {},
     "output_type": "execute_result"
    }
   ],
   "source": [
    "df.tail(3)"
   ]
  },
  {
   "cell_type": "code",
   "execution_count": 10,
   "metadata": {},
   "outputs": [
    {
     "data": {
      "text/plain": [
       "DatetimeIndex(['2013-01-01', '2013-01-02', '2013-01-03', '2013-01-04',\n",
       "               '2013-01-05', '2013-01-06'],\n",
       "              dtype='datetime64[ns]', freq='D')"
      ]
     },
     "execution_count": 10,
     "metadata": {},
     "output_type": "execute_result"
    }
   ],
   "source": [
    " df.index"
   ]
  },
  {
   "cell_type": "code",
   "execution_count": 11,
   "metadata": {},
   "outputs": [
    {
     "data": {
      "text/plain": [
       "Index(['A', 'B', 'C', 'D'], dtype='object')"
      ]
     },
     "execution_count": 11,
     "metadata": {},
     "output_type": "execute_result"
    }
   ],
   "source": [
    "df.columns"
   ]
  },
  {
   "cell_type": "code",
   "execution_count": 12,
   "metadata": {},
   "outputs": [
    {
     "data": {
      "text/plain": [
       "array([[-0.90777068,  0.05572766,  0.46250378, -1.58949891],\n",
       "       [ 0.89854277, -0.11020218, -1.47831694, -0.82473133],\n",
       "       [ 1.41521745, -0.02839496,  0.33506212,  0.43966536],\n",
       "       [-0.77147112, -0.21304576, -1.2104555 , -0.78022321],\n",
       "       [ 1.54992839, -0.11792962, -0.27169736, -0.06471749],\n",
       "       [-0.34521687,  0.82844521,  0.03296185, -0.58580226]])"
      ]
     },
     "execution_count": 12,
     "metadata": {},
     "output_type": "execute_result"
    }
   ],
   "source": [
    "df.to_numpy()"
   ]
  },
  {
   "cell_type": "code",
   "execution_count": 13,
   "metadata": {},
   "outputs": [
    {
     "data": {
      "text/html": [
       "<div>\n",
       "<style scoped>\n",
       "    .dataframe tbody tr th:only-of-type {\n",
       "        vertical-align: middle;\n",
       "    }\n",
       "\n",
       "    .dataframe tbody tr th {\n",
       "        vertical-align: top;\n",
       "    }\n",
       "\n",
       "    .dataframe thead th {\n",
       "        text-align: right;\n",
       "    }\n",
       "</style>\n",
       "<table border=\"1\" class=\"dataframe\">\n",
       "  <thead>\n",
       "    <tr style=\"text-align: right;\">\n",
       "      <th></th>\n",
       "      <th>A</th>\n",
       "      <th>B</th>\n",
       "      <th>C</th>\n",
       "      <th>D</th>\n",
       "    </tr>\n",
       "  </thead>\n",
       "  <tbody>\n",
       "    <tr>\n",
       "      <th>count</th>\n",
       "      <td>6.000000</td>\n",
       "      <td>6.000000</td>\n",
       "      <td>6.000000</td>\n",
       "      <td>6.000000</td>\n",
       "    </tr>\n",
       "    <tr>\n",
       "      <th>mean</th>\n",
       "      <td>0.306538</td>\n",
       "      <td>0.069100</td>\n",
       "      <td>-0.354990</td>\n",
       "      <td>-0.567551</td>\n",
       "    </tr>\n",
       "    <tr>\n",
       "      <th>std</th>\n",
       "      <td>1.112393</td>\n",
       "      <td>0.382890</td>\n",
       "      <td>0.811862</td>\n",
       "      <td>0.696191</td>\n",
       "    </tr>\n",
       "    <tr>\n",
       "      <th>min</th>\n",
       "      <td>-0.907771</td>\n",
       "      <td>-0.213046</td>\n",
       "      <td>-1.478317</td>\n",
       "      <td>-1.589499</td>\n",
       "    </tr>\n",
       "    <tr>\n",
       "      <th>25%</th>\n",
       "      <td>-0.664908</td>\n",
       "      <td>-0.115998</td>\n",
       "      <td>-0.975766</td>\n",
       "      <td>-0.813604</td>\n",
       "    </tr>\n",
       "    <tr>\n",
       "      <th>50%</th>\n",
       "      <td>0.276663</td>\n",
       "      <td>-0.069299</td>\n",
       "      <td>-0.119368</td>\n",
       "      <td>-0.683013</td>\n",
       "    </tr>\n",
       "    <tr>\n",
       "      <th>75%</th>\n",
       "      <td>1.286049</td>\n",
       "      <td>0.034697</td>\n",
       "      <td>0.259537</td>\n",
       "      <td>-0.194989</td>\n",
       "    </tr>\n",
       "    <tr>\n",
       "      <th>max</th>\n",
       "      <td>1.549928</td>\n",
       "      <td>0.828445</td>\n",
       "      <td>0.462504</td>\n",
       "      <td>0.439665</td>\n",
       "    </tr>\n",
       "  </tbody>\n",
       "</table>\n",
       "</div>"
      ],
      "text/plain": [
       "              A         B         C         D\n",
       "count  6.000000  6.000000  6.000000  6.000000\n",
       "mean   0.306538  0.069100 -0.354990 -0.567551\n",
       "std    1.112393  0.382890  0.811862  0.696191\n",
       "min   -0.907771 -0.213046 -1.478317 -1.589499\n",
       "25%   -0.664908 -0.115998 -0.975766 -0.813604\n",
       "50%    0.276663 -0.069299 -0.119368 -0.683013\n",
       "75%    1.286049  0.034697  0.259537 -0.194989\n",
       "max    1.549928  0.828445  0.462504  0.439665"
      ]
     },
     "execution_count": 13,
     "metadata": {},
     "output_type": "execute_result"
    }
   ],
   "source": [
    "df.describe()"
   ]
  },
  {
   "cell_type": "code",
   "execution_count": 14,
   "metadata": {},
   "outputs": [
    {
     "data": {
      "text/html": [
       "<div>\n",
       "<style scoped>\n",
       "    .dataframe tbody tr th:only-of-type {\n",
       "        vertical-align: middle;\n",
       "    }\n",
       "\n",
       "    .dataframe tbody tr th {\n",
       "        vertical-align: top;\n",
       "    }\n",
       "\n",
       "    .dataframe thead th {\n",
       "        text-align: right;\n",
       "    }\n",
       "</style>\n",
       "<table border=\"1\" class=\"dataframe\">\n",
       "  <thead>\n",
       "    <tr style=\"text-align: right;\">\n",
       "      <th></th>\n",
       "      <th>2013-01-01 00:00:00</th>\n",
       "      <th>2013-01-02 00:00:00</th>\n",
       "      <th>2013-01-03 00:00:00</th>\n",
       "      <th>2013-01-04 00:00:00</th>\n",
       "      <th>2013-01-05 00:00:00</th>\n",
       "      <th>2013-01-06 00:00:00</th>\n",
       "    </tr>\n",
       "  </thead>\n",
       "  <tbody>\n",
       "    <tr>\n",
       "      <th>A</th>\n",
       "      <td>-0.907771</td>\n",
       "      <td>0.898543</td>\n",
       "      <td>1.415217</td>\n",
       "      <td>-0.771471</td>\n",
       "      <td>1.549928</td>\n",
       "      <td>-0.345217</td>\n",
       "    </tr>\n",
       "    <tr>\n",
       "      <th>B</th>\n",
       "      <td>0.055728</td>\n",
       "      <td>-0.110202</td>\n",
       "      <td>-0.028395</td>\n",
       "      <td>-0.213046</td>\n",
       "      <td>-0.117930</td>\n",
       "      <td>0.828445</td>\n",
       "    </tr>\n",
       "    <tr>\n",
       "      <th>C</th>\n",
       "      <td>0.462504</td>\n",
       "      <td>-1.478317</td>\n",
       "      <td>0.335062</td>\n",
       "      <td>-1.210456</td>\n",
       "      <td>-0.271697</td>\n",
       "      <td>0.032962</td>\n",
       "    </tr>\n",
       "    <tr>\n",
       "      <th>D</th>\n",
       "      <td>-1.589499</td>\n",
       "      <td>-0.824731</td>\n",
       "      <td>0.439665</td>\n",
       "      <td>-0.780223</td>\n",
       "      <td>-0.064717</td>\n",
       "      <td>-0.585802</td>\n",
       "    </tr>\n",
       "  </tbody>\n",
       "</table>\n",
       "</div>"
      ],
      "text/plain": [
       "   2013-01-01  2013-01-02  2013-01-03  2013-01-04  2013-01-05  2013-01-06\n",
       "A   -0.907771    0.898543    1.415217   -0.771471    1.549928   -0.345217\n",
       "B    0.055728   -0.110202   -0.028395   -0.213046   -0.117930    0.828445\n",
       "C    0.462504   -1.478317    0.335062   -1.210456   -0.271697    0.032962\n",
       "D   -1.589499   -0.824731    0.439665   -0.780223   -0.064717   -0.585802"
      ]
     },
     "execution_count": 14,
     "metadata": {},
     "output_type": "execute_result"
    }
   ],
   "source": [
    "df.T"
   ]
  },
  {
   "cell_type": "code",
   "execution_count": 15,
   "metadata": {},
   "outputs": [
    {
     "data": {
      "text/html": [
       "<div>\n",
       "<style scoped>\n",
       "    .dataframe tbody tr th:only-of-type {\n",
       "        vertical-align: middle;\n",
       "    }\n",
       "\n",
       "    .dataframe tbody tr th {\n",
       "        vertical-align: top;\n",
       "    }\n",
       "\n",
       "    .dataframe thead th {\n",
       "        text-align: right;\n",
       "    }\n",
       "</style>\n",
       "<table border=\"1\" class=\"dataframe\">\n",
       "  <thead>\n",
       "    <tr style=\"text-align: right;\">\n",
       "      <th></th>\n",
       "      <th>D</th>\n",
       "      <th>C</th>\n",
       "      <th>B</th>\n",
       "      <th>A</th>\n",
       "    </tr>\n",
       "  </thead>\n",
       "  <tbody>\n",
       "    <tr>\n",
       "      <th>2013-01-01</th>\n",
       "      <td>-1.589499</td>\n",
       "      <td>0.462504</td>\n",
       "      <td>0.055728</td>\n",
       "      <td>-0.907771</td>\n",
       "    </tr>\n",
       "    <tr>\n",
       "      <th>2013-01-02</th>\n",
       "      <td>-0.824731</td>\n",
       "      <td>-1.478317</td>\n",
       "      <td>-0.110202</td>\n",
       "      <td>0.898543</td>\n",
       "    </tr>\n",
       "    <tr>\n",
       "      <th>2013-01-03</th>\n",
       "      <td>0.439665</td>\n",
       "      <td>0.335062</td>\n",
       "      <td>-0.028395</td>\n",
       "      <td>1.415217</td>\n",
       "    </tr>\n",
       "    <tr>\n",
       "      <th>2013-01-04</th>\n",
       "      <td>-0.780223</td>\n",
       "      <td>-1.210456</td>\n",
       "      <td>-0.213046</td>\n",
       "      <td>-0.771471</td>\n",
       "    </tr>\n",
       "    <tr>\n",
       "      <th>2013-01-05</th>\n",
       "      <td>-0.064717</td>\n",
       "      <td>-0.271697</td>\n",
       "      <td>-0.117930</td>\n",
       "      <td>1.549928</td>\n",
       "    </tr>\n",
       "    <tr>\n",
       "      <th>2013-01-06</th>\n",
       "      <td>-0.585802</td>\n",
       "      <td>0.032962</td>\n",
       "      <td>0.828445</td>\n",
       "      <td>-0.345217</td>\n",
       "    </tr>\n",
       "  </tbody>\n",
       "</table>\n",
       "</div>"
      ],
      "text/plain": [
       "                   D         C         B         A\n",
       "2013-01-01 -1.589499  0.462504  0.055728 -0.907771\n",
       "2013-01-02 -0.824731 -1.478317 -0.110202  0.898543\n",
       "2013-01-03  0.439665  0.335062 -0.028395  1.415217\n",
       "2013-01-04 -0.780223 -1.210456 -0.213046 -0.771471\n",
       "2013-01-05 -0.064717 -0.271697 -0.117930  1.549928\n",
       "2013-01-06 -0.585802  0.032962  0.828445 -0.345217"
      ]
     },
     "execution_count": 15,
     "metadata": {},
     "output_type": "execute_result"
    }
   ],
   "source": [
    "df.sort_index(axis=1, ascending=False)"
   ]
  },
  {
   "cell_type": "code",
   "execution_count": 16,
   "metadata": {},
   "outputs": [
    {
     "data": {
      "text/html": [
       "<div>\n",
       "<style scoped>\n",
       "    .dataframe tbody tr th:only-of-type {\n",
       "        vertical-align: middle;\n",
       "    }\n",
       "\n",
       "    .dataframe tbody tr th {\n",
       "        vertical-align: top;\n",
       "    }\n",
       "\n",
       "    .dataframe thead th {\n",
       "        text-align: right;\n",
       "    }\n",
       "</style>\n",
       "<table border=\"1\" class=\"dataframe\">\n",
       "  <thead>\n",
       "    <tr style=\"text-align: right;\">\n",
       "      <th></th>\n",
       "      <th>A</th>\n",
       "      <th>B</th>\n",
       "      <th>C</th>\n",
       "      <th>D</th>\n",
       "    </tr>\n",
       "  </thead>\n",
       "  <tbody>\n",
       "    <tr>\n",
       "      <th>2013-01-04</th>\n",
       "      <td>-0.771471</td>\n",
       "      <td>-0.213046</td>\n",
       "      <td>-1.210456</td>\n",
       "      <td>-0.780223</td>\n",
       "    </tr>\n",
       "    <tr>\n",
       "      <th>2013-01-05</th>\n",
       "      <td>1.549928</td>\n",
       "      <td>-0.117930</td>\n",
       "      <td>-0.271697</td>\n",
       "      <td>-0.064717</td>\n",
       "    </tr>\n",
       "    <tr>\n",
       "      <th>2013-01-02</th>\n",
       "      <td>0.898543</td>\n",
       "      <td>-0.110202</td>\n",
       "      <td>-1.478317</td>\n",
       "      <td>-0.824731</td>\n",
       "    </tr>\n",
       "    <tr>\n",
       "      <th>2013-01-03</th>\n",
       "      <td>1.415217</td>\n",
       "      <td>-0.028395</td>\n",
       "      <td>0.335062</td>\n",
       "      <td>0.439665</td>\n",
       "    </tr>\n",
       "    <tr>\n",
       "      <th>2013-01-01</th>\n",
       "      <td>-0.907771</td>\n",
       "      <td>0.055728</td>\n",
       "      <td>0.462504</td>\n",
       "      <td>-1.589499</td>\n",
       "    </tr>\n",
       "    <tr>\n",
       "      <th>2013-01-06</th>\n",
       "      <td>-0.345217</td>\n",
       "      <td>0.828445</td>\n",
       "      <td>0.032962</td>\n",
       "      <td>-0.585802</td>\n",
       "    </tr>\n",
       "  </tbody>\n",
       "</table>\n",
       "</div>"
      ],
      "text/plain": [
       "                   A         B         C         D\n",
       "2013-01-04 -0.771471 -0.213046 -1.210456 -0.780223\n",
       "2013-01-05  1.549928 -0.117930 -0.271697 -0.064717\n",
       "2013-01-02  0.898543 -0.110202 -1.478317 -0.824731\n",
       "2013-01-03  1.415217 -0.028395  0.335062  0.439665\n",
       "2013-01-01 -0.907771  0.055728  0.462504 -1.589499\n",
       "2013-01-06 -0.345217  0.828445  0.032962 -0.585802"
      ]
     },
     "execution_count": 16,
     "metadata": {},
     "output_type": "execute_result"
    }
   ],
   "source": [
    "df.sort_values(by='B')"
   ]
  },
  {
   "cell_type": "code",
   "execution_count": null,
   "metadata": {},
   "outputs": [],
   "source": []
  }
 ],
 "metadata": {
  "kernelspec": {
   "display_name": "Python 3",
   "language": "python",
   "name": "python3"
  },
  "language_info": {
   "codemirror_mode": {
    "name": "ipython",
    "version": 3
   },
   "file_extension": ".py",
   "mimetype": "text/x-python",
   "name": "python",
   "nbconvert_exporter": "python",
   "pygments_lexer": "ipython3",
   "version": "3.7.2"
  }
 },
 "nbformat": 4,
 "nbformat_minor": 2
}
