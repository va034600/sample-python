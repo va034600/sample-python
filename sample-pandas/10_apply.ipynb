{
 "cells": [
  {
   "cell_type": "code",
   "execution_count": 1,
   "metadata": {},
   "outputs": [],
   "source": [
    "import numpy as np\n",
    "import pandas as pd"
   ]
  },
  {
   "cell_type": "code",
   "execution_count": 2,
   "metadata": {},
   "outputs": [],
   "source": [
    "dates = pd.date_range('20130101', periods=6)\n",
    "df = pd.DataFrame(np.random.randn(6, 4), index=dates, columns=list('ABCD'))"
   ]
  },
  {
   "cell_type": "code",
   "execution_count": 3,
   "metadata": {},
   "outputs": [
    {
     "data": {
      "text/html": [
       "<div>\n",
       "<style scoped>\n",
       "    .dataframe tbody tr th:only-of-type {\n",
       "        vertical-align: middle;\n",
       "    }\n",
       "\n",
       "    .dataframe tbody tr th {\n",
       "        vertical-align: top;\n",
       "    }\n",
       "\n",
       "    .dataframe thead th {\n",
       "        text-align: right;\n",
       "    }\n",
       "</style>\n",
       "<table border=\"1\" class=\"dataframe\">\n",
       "  <thead>\n",
       "    <tr style=\"text-align: right;\">\n",
       "      <th></th>\n",
       "      <th>A</th>\n",
       "      <th>B</th>\n",
       "      <th>C</th>\n",
       "      <th>D</th>\n",
       "    </tr>\n",
       "  </thead>\n",
       "  <tbody>\n",
       "    <tr>\n",
       "      <th>2013-01-01</th>\n",
       "      <td>1.465961</td>\n",
       "      <td>0.233426</td>\n",
       "      <td>-0.011409</td>\n",
       "      <td>-0.274242</td>\n",
       "    </tr>\n",
       "    <tr>\n",
       "      <th>2013-01-02</th>\n",
       "      <td>1.005200</td>\n",
       "      <td>0.993621</td>\n",
       "      <td>-0.160241</td>\n",
       "      <td>-0.910314</td>\n",
       "    </tr>\n",
       "    <tr>\n",
       "      <th>2013-01-03</th>\n",
       "      <td>0.068090</td>\n",
       "      <td>0.610543</td>\n",
       "      <td>-0.228241</td>\n",
       "      <td>0.128736</td>\n",
       "    </tr>\n",
       "    <tr>\n",
       "      <th>2013-01-04</th>\n",
       "      <td>1.636599</td>\n",
       "      <td>-1.401137</td>\n",
       "      <td>0.112654</td>\n",
       "      <td>1.184722</td>\n",
       "    </tr>\n",
       "    <tr>\n",
       "      <th>2013-01-05</th>\n",
       "      <td>-1.392122</td>\n",
       "      <td>-0.326427</td>\n",
       "      <td>0.454208</td>\n",
       "      <td>-1.262709</td>\n",
       "    </tr>\n",
       "    <tr>\n",
       "      <th>2013-01-06</th>\n",
       "      <td>-0.194832</td>\n",
       "      <td>-0.387510</td>\n",
       "      <td>-1.099068</td>\n",
       "      <td>-0.902478</td>\n",
       "    </tr>\n",
       "  </tbody>\n",
       "</table>\n",
       "</div>"
      ],
      "text/plain": [
       "                   A         B         C         D\n",
       "2013-01-01  1.465961  0.233426 -0.011409 -0.274242\n",
       "2013-01-02  1.005200  0.993621 -0.160241 -0.910314\n",
       "2013-01-03  0.068090  0.610543 -0.228241  0.128736\n",
       "2013-01-04  1.636599 -1.401137  0.112654  1.184722\n",
       "2013-01-05 -1.392122 -0.326427  0.454208 -1.262709\n",
       "2013-01-06 -0.194832 -0.387510 -1.099068 -0.902478"
      ]
     },
     "execution_count": 3,
     "metadata": {},
     "output_type": "execute_result"
    }
   ],
   "source": [
    "df"
   ]
  },
  {
   "cell_type": "code",
   "execution_count": 4,
   "metadata": {},
   "outputs": [
    {
     "data": {
      "text/html": [
       "<div>\n",
       "<style scoped>\n",
       "    .dataframe tbody tr th:only-of-type {\n",
       "        vertical-align: middle;\n",
       "    }\n",
       "\n",
       "    .dataframe tbody tr th {\n",
       "        vertical-align: top;\n",
       "    }\n",
       "\n",
       "    .dataframe thead th {\n",
       "        text-align: right;\n",
       "    }\n",
       "</style>\n",
       "<table border=\"1\" class=\"dataframe\">\n",
       "  <thead>\n",
       "    <tr style=\"text-align: right;\">\n",
       "      <th></th>\n",
       "      <th>A</th>\n",
       "      <th>B</th>\n",
       "      <th>C</th>\n",
       "      <th>D</th>\n",
       "    </tr>\n",
       "  </thead>\n",
       "  <tbody>\n",
       "    <tr>\n",
       "      <th>2013-01-01</th>\n",
       "      <td>1.465961</td>\n",
       "      <td>0.233426</td>\n",
       "      <td>-0.011409</td>\n",
       "      <td>-0.274242</td>\n",
       "    </tr>\n",
       "    <tr>\n",
       "      <th>2013-01-02</th>\n",
       "      <td>2.471161</td>\n",
       "      <td>1.227047</td>\n",
       "      <td>-0.171650</td>\n",
       "      <td>-1.184556</td>\n",
       "    </tr>\n",
       "    <tr>\n",
       "      <th>2013-01-03</th>\n",
       "      <td>2.539252</td>\n",
       "      <td>1.837590</td>\n",
       "      <td>-0.399892</td>\n",
       "      <td>-1.055821</td>\n",
       "    </tr>\n",
       "    <tr>\n",
       "      <th>2013-01-04</th>\n",
       "      <td>4.175851</td>\n",
       "      <td>0.436453</td>\n",
       "      <td>-0.287238</td>\n",
       "      <td>0.128902</td>\n",
       "    </tr>\n",
       "    <tr>\n",
       "      <th>2013-01-05</th>\n",
       "      <td>2.783729</td>\n",
       "      <td>0.110026</td>\n",
       "      <td>0.166970</td>\n",
       "      <td>-1.133807</td>\n",
       "    </tr>\n",
       "    <tr>\n",
       "      <th>2013-01-06</th>\n",
       "      <td>2.588897</td>\n",
       "      <td>-0.277484</td>\n",
       "      <td>-0.932098</td>\n",
       "      <td>-2.036286</td>\n",
       "    </tr>\n",
       "  </tbody>\n",
       "</table>\n",
       "</div>"
      ],
      "text/plain": [
       "                   A         B         C         D\n",
       "2013-01-01  1.465961  0.233426 -0.011409 -0.274242\n",
       "2013-01-02  2.471161  1.227047 -0.171650 -1.184556\n",
       "2013-01-03  2.539252  1.837590 -0.399892 -1.055821\n",
       "2013-01-04  4.175851  0.436453 -0.287238  0.128902\n",
       "2013-01-05  2.783729  0.110026  0.166970 -1.133807\n",
       "2013-01-06  2.588897 -0.277484 -0.932098 -2.036286"
      ]
     },
     "execution_count": 4,
     "metadata": {},
     "output_type": "execute_result"
    }
   ],
   "source": [
    "df.apply(np.cumsum)"
   ]
  },
  {
   "cell_type": "code",
   "execution_count": 5,
   "metadata": {},
   "outputs": [
    {
     "data": {
      "text/plain": [
       "A    3.028722\n",
       "B    2.394758\n",
       "C    1.553277\n",
       "D    2.447431\n",
       "dtype: float64"
      ]
     },
     "execution_count": 5,
     "metadata": {},
     "output_type": "execute_result"
    }
   ],
   "source": [
    "df.apply(lambda x: x.max() - x.min())"
   ]
  },
  {
   "cell_type": "code",
   "execution_count": null,
   "metadata": {},
   "outputs": [],
   "source": []
  }
 ],
 "metadata": {
  "kernelspec": {
   "display_name": "Python 3",
   "language": "python",
   "name": "python3"
  },
  "language_info": {
   "codemirror_mode": {
    "name": "ipython",
    "version": 3
   },
   "file_extension": ".py",
   "mimetype": "text/x-python",
   "name": "python",
   "nbconvert_exporter": "python",
   "pygments_lexer": "ipython3",
   "version": "3.7.2"
  }
 },
 "nbformat": 4,
 "nbformat_minor": 2
}
